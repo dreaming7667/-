{
  "nbformat": 4,
  "nbformat_minor": 0,
  "metadata": {
    "colab": {
      "name": "Untitled1.ipynb",
      "provenance": [],
      "authorship_tag": "ABX9TyPhdShEU2oAaCNLRtvSm9ql",
      "include_colab_link": true
    },
    "kernelspec": {
      "name": "python3",
      "display_name": "Python 3"
    }
  },
  "cells": [
    {
      "cell_type": "markdown",
      "metadata": {
        "id": "view-in-github",
        "colab_type": "text"
      },
      "source": [
        "<a href=\"https://colab.research.google.com/github/dreaming7667/-/blob/master/Untitled1.ipynb\" target=\"_parent\"><img src=\"https://colab.research.google.com/assets/colab-badge.svg\" alt=\"Open In Colab\"/></a>"
      ]
    },
    {
      "cell_type": "markdown",
      "metadata": {
        "id": "U3pQXBeJgSiN",
        "colab_type": "text"
      },
      "source": [
        ""
      ]
    },
    {
      "cell_type": "markdown",
      "metadata": {
        "id": "eSzZX2wOgQdJ",
        "colab_type": "text"
      },
      "source": [
        "# 사관학교 자료정리 \n",
        "------\n",
        "### 언어 : 파파고 \n",
        "> 네이버 산하 기술연구소인 '네이버랩스'가 만든 인공신경망 기반 번역(NMT) 앱 서비스\n",
        "### 음성 : 시리(siri) \n",
        "\n",
        "### 이미지 : 스마트 렌즈 \n",
        "\n",
        "### 자율주행 : 서빙로봇 페니 \n"
      ]
    },
    {
      "cell_type": "code",
      "metadata": {
        "id": "OtLZm-1Cg_eb",
        "colab_type": "code",
        "colab": {}
      },
      "source": [
        ""
      ],
      "execution_count": 0,
      "outputs": []
    }
  ]
}
